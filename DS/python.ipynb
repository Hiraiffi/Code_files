import math

A = 16;

print(a);